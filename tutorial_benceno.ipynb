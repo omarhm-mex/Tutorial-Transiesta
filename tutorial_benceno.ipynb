{
 "cells": [
  {
   "cell_type": "markdown",
   "metadata": {},
   "source": [
    "# Transistor de Benceno\n",
    "1. En este ejemplo construiremos desde cero la geometría del sistema **electrodo-dispositivo-electrodo**, siendo el dispositivo (o canal) una molécula de benceno.\n",
    "2. Una vez construida la gometría  crearemos los archivos de entrada para Transiesta para realizar un cálculo de la función de Green Fuera del Equilibrio (NEGF).\n",
    "3. Después de obtener el hamiltoniano y la densidad electrónica con Transiesta podremos obtener la función de transmisión $T(E)$ con ayuda de Tbtrans\n",
    "![](benzene_au_hcp32.png)\n",
    "                                                                                            Omar HM"
   ]
  },
  {
   "cell_type": "markdown",
   "metadata": {
    "id": "xkB-7a0WI5-w"
   },
   "source": [
    "### Definición de parámetros de la celda unitaria del Electrodo\n",
    " 1. Define los vectores de la red y sus vectores base.\n",
    " 2. En este ejemplo se utiliza una red hcp de Au (arreglo ABA)"
   ]
  },
  {
   "cell_type": "code",
   "execution_count": 1,
   "metadata": {
    "id": "Ir4vq4G4I8Hu"
   },
   "outputs": [],
   "source": [
    "from pylab import *\n",
    "import numpy as np\n",
    "from mpl_toolkits.mplot3d import axes3d\n",
    "#Define electrode Label:\n",
    "label = \"au_hcp\" #ABA array\n",
    "#Define lattice vectors:\n",
    "a0 = 4.08\n",
    "a1 = a0*np.array([1.0,0.0,0.0])\n",
    "a2 = a0*np.array([0.0,1.0,0.0])\n",
    "a3 = a0*np.array([0.0,0.0,1.0])\n",
    "VolR = np.dot(a1,np.cross(a2,a3))\n",
    "#Basis vectors (fractional if you want):\n",
    "b1 = 0.0*a1 + 0.0*a2 + 0.0*a3\n",
    "b2 = 0.0*a1 + 0.5*a2 + 0.5*a3\n",
    "b3 = 0.5*a1 + 0.0*a2 + 0.5*a3\n",
    "b4 = 0.5*a1 + 0.5*a2 + 0.0*a3\n",
    "basis = [b1,b2,b3,b4]"
   ]
  },
  {
   "cell_type": "markdown",
   "metadata": {
    "id": "0UES01hOr6tx"
   },
   "source": [
    "### Creación de la supercelda para el electrodo:\n",
    "1. Ejecuta la siguiente celda, te solicitará indicar el número de traslaciones en cada eje: para comenzar indica una traslación en cada eje.\n",
    "2. Se creará un arreglo llamado **supercell_xyz** el cual contiene las coordenadas cartesianas de la supercelda del electrodo.\n",
    "3. Se imprimira la distancia máxima en cada eje ya que serán de utilidad para hacer traslaciones y rotaciones de la molécula y los electrodos.\n",
    "4. En adelante este notebook esta pensado para que la dirección semiinffinita sea a lo largo del eje X"
   ]
  },
  {
   "cell_type": "code",
   "execution_count": 2,
   "metadata": {
    "colab": {
     "base_uri": "https://localhost:8080/"
    },
    "id": "jHM4QlWDuvO4",
    "outputId": "6c928d84-1760-4d78-9972-576ee64a4eb5",
    "scrolled": true
   },
   "outputs": [
    {
     "name": "stdout",
     "output_type": "stream",
     "text": [
      "Introduce las repeticiones en x:1\n",
      "Introduce las repeticiones en y:1\n",
      "Introduce las repeticiones en z:1\n",
      "System:\tau_hcp\t\t\n",
      "Number of atoms:\t32\tVol. Cell:\t67.92\n",
      "Max Supercell Distance in x:\t 6.1200\n",
      "Max Supercell Distance in y:\t 6.1200\n",
      "Max Supercell Distance in z:\t 6.1200\n"
     ]
    }
   ],
   "source": [
    "ntraslationsx = int(input(\"Introduce las repeticiones en x:\"))\n",
    "ntraslationsy = int(input(\"Introduce las repeticiones en y:\"))\n",
    "ntraslationsz = int(input(\"Introduce las repeticiones en z:\"))\n",
    "np_lattice = (ntraslationsx+1)*(ntraslationsy+1)*(ntraslationsz+1) # Número de puntos en la supercelda\n",
    "pointsR = np.zeros([np_lattice,3],dtype=np.float64)\n",
    "count1 = 0\n",
    "for n1 in range(0,int(ntraslationsx+1)):\n",
    "  for n2 in range(0,int(ntraslationsy+1)):\n",
    "    for n3 in range(0,int(ntraslationsz+1)):\n",
    "      pointsR[count1,:] = n1*a1 + n2*a2 + n3*a3\n",
    "      count1 = count1 + 1 \n",
    "Natoms = np_lattice*len(basis)   # Número de átomos en la supercelda\n",
    "supercell_xyz = np.zeros([Natoms,3],dtype=np.float64)\n",
    "count2 = 0\n",
    "for k in range(len(pointsR)):\n",
    "  for l in range(len(basis)):\n",
    "    supercell_xyz[count2,:]=pointsR[k] + basis[l]\n",
    "    count2 = count2 + 1\n",
    "print(\"System:\" + \"\\t\" + str(label) + 2*\"\\t\"  + \"\\n\"+ \"Number of atoms:\" + \"\\t\" + str(Natoms) + \"\\t\"+ \"Vol. Cell:\" + 1*\"\\t\" +str(\"{:.2f}\".format(VolR)))\n",
    "xmax_sc, ymax_sc, zmax_sc = np.amax(supercell_xyz[:,0]), np.amax(supercell_xyz[:,1]), np.amax(supercell_xyz[:,2])\n",
    "print(\"Max Supercell Distance in x:\\t\",\"{:.4f}\".format(xmax_sc))\n",
    "print(\"Max Supercell Distance in y:\\t\",\"{:.4f}\".format(ymax_sc)) \n",
    "print(\"Max Supercell Distance in z:\\t\",\"{:.4f}\".format(zmax_sc))"
   ]
  },
  {
   "cell_type": "markdown",
   "metadata": {
    "id": "3LTWaOgVr6t0"
   },
   "source": [
    "### Lectura la geometría de la molécula (*device*) desde un archivo .xyz\n",
    " - Para este ejemplo se utilizo como *device* un anillo de benceno unido a dos átomos de azufre, lo cuales se unen covalentemente con el electrodo de Au.\n",
    " - Las coordenadas de la molécula se almacenarán en los arreglos `x_coord`, `y_coord` y `z_coord`."
   ]
  },
  {
   "cell_type": "code",
   "execution_count": 4,
   "metadata": {},
   "outputs": [],
   "source": [
    "def Readxyz(File):\n",
    "    x,y,z    = loadtxt(File,usecols=(1,2,3),unpack=True,skiprows=2)\n",
    "    atom     = loadtxt(File,usecols=(0,),unpack=True,skiprows=2,dtype=\"str\")\n",
    "    natoms   = len(x)\n",
    "    Data     = {\"label\":File,\n",
    "                \"x\":x,\n",
    "                \"y\":y,\n",
    "                \"z\":z,\n",
    "                \"atom\":atom,\n",
    "                \"natoms\":natoms}\n",
    "    #print (\"System: \", File)\n",
    "    #print (\"Número de átomos: {0}\".format(natoms))\n",
    "    #print (\"Tipos de atomos:\",unique(atom))\n",
    "    return Data\n",
    "###################################################################################################\n",
    "molecule = Readxyz(\"s_benzene.xyz\")\n",
    "molecule_label = molecule[\"label\"].replace(\".xyz\",\"\")\n",
    "Natoms2 = molecule[\"natoms\"]\n",
    "x_coord, y_coord, z_coord = molecule[\"x\"], molecule[\"y\"], molecule[\"z\"]\n",
    "atom_s = molecule[\"atom\"]    \n",
    "###################### Defining molecule midpoint as axis rotation ################################\n",
    "xmax_mol, xmin_mol = np.amax(x_coord), np.amin(x_coord)\n",
    "ymax_mol, ymin_mol = np.amax(y_coord), np.amin(y_coord)\n",
    "zmax_mol, zmin_mol = np.amax(z_coord), np.amin(z_coord)\n",
    "xm, ym, zm =  0.5*(xmax_mol+xmin_mol), 0.5*(ymax_mol+ymin_mol), 0.5*(zmax_mol+zmin_mol)\n",
    "####################################################################################################"
   ]
  },
  {
   "cell_type": "markdown",
   "metadata": {},
   "source": [
    "### A continuación se define una función que nos permitirá realizar rotaciones y traslaciones del device\n",
    "1. La definición de variables de rotación y traslación se hacen en la siguiente celda\n",
    "2. El punto medio de la molécula se utilizará para definir el eje de rotación de la molécula\n",
    "3. En la siguiente función se define una rotación de la molécula en el plano xy, seguido de un rotación en el plano yz y por último una traslación, la cuál el usuario controlará en la siguiente sección."
   ]
  },
  {
   "cell_type": "code",
   "execution_count": 5,
   "metadata": {
    "id": "fyF5ktzrr6t1"
   },
   "outputs": [],
   "source": [
    "def rotation_traslation(atom,anglexy,angleyz,xref,yref,zref,x_dis,y_dis,z_dis):\n",
    "    anglexy = anglexy*math.pi/180\n",
    "    angleyz = angleyz*math.pi/180\n",
    "    #rotation xy-axis:\n",
    "    xr = (x_coord[atom]-xref)*math.cos(anglexy) - (y_coord[atom]-yref)*math.sin(anglexy)\n",
    "    yr = (x_coord[atom]-xref)*math.sin(anglexy) + (y_coord[atom]-yref)*math.cos(anglexy)\n",
    "    #rotation yz-axis:\n",
    "    yr = (z_coord[atom]-zref)*math.sin(angleyz) - (yr-yref)*math.cos(angleyz)\n",
    "    zr = (z_coord[atom]-zref)*math.cos(angleyz) + (yr-yref)*math.sin(angleyz)\n",
    "    #traslation\n",
    "    xt = xr + x_dis\n",
    "    yt = yr + y_dis\n",
    "    zt = zr + z_dis\n",
    "    return xt, yt, zt"
   ]
  },
  {
   "cell_type": "markdown",
   "metadata": {},
   "source": [
    "### Definición de parámetros para la creación la región de scattering\n",
    "1. Es muy importante hacer notar que la traslación mínima (en el eje x) de la molécula tiene que ser la suma del *tamaño de la supercelda con el tamaño de la molécula* las cuales se controlan con la variable **x_dis_mol = xmax_sc + abs(xmin_mol)**, esta distancia minima dejará la molécula \"pegada\" a la supercelda del eletrodo, por lo que es necesario hacer una traslación adicional al gusto del usuario.\n",
    "2. A la par se definen los vectores de traslación (lattice vectors) que Transiesta utilizará para la conexión de la región de scattering con los electrodos"
   ]
  },
  {
   "cell_type": "code",
   "execution_count": 6,
   "metadata": {
    "id": "vfK9fVJVr6t2"
   },
   "outputs": [
    {
     "name": "stdout",
     "output_type": "stream",
     "text": [
      "THE NEXT LATTICE VECTORS WILL BE USED FOR YOUR ELECTRODE: \n",
      "\n",
      "cell= 8.1600 0.0000 0.0000  0.0000 15.3000 0.0000  0.0000 0.0000 21.4200 nsc= 1 1 1\n",
      "\n",
      "THE NEXT LATTICE VECTORS WILL BE USED FOR YOUR DEVICE: \n",
      "\n",
      "cell= 25.2432 0.0000 0.0000  0.0000 15.3000 0.0000  0.0000 0.0000 21.4200 nsc= 1 1 1\n"
     ]
    }
   ],
   "source": [
    "angle_rotationxy = 90 # zero for no rotation\n",
    "angle_rotationyz = 0 # zero for no rotation\n",
    "if angle_rotationxy !=0:\n",
    "    xmin_mol, xmax_mol = ymax_mol, ymin_mol\n",
    "################# x,y,z displacement for molecule ################\n",
    "x_dis_mol = xmax_sc + abs(xmin_mol) + 2.3\n",
    "y_dis_mol = ymax_sc/2\n",
    "z_dis_mol = zmax_sc/2\n",
    "# z displacement for the right electrode\n",
    "x_dis_elec =  x_dis_mol + abs(xmax_mol) + 2.3\n",
    "##################################################################\n",
    "### Constructing the the lattice vetctors for leads conections ###\n",
    "##################################################################\n",
    "dev_lenght = xmax_sc + x_dis_elec # Device box lenght\n",
    "a1_elec = [xmax_sc + a0/2, 0.0, 0.0]\n",
    "a2_elec = [0.0,2.5*ymax_sc,0.0]\n",
    "a3_elec = [0.0,0.0,3.5*zmax_sc]\n",
    "a1_dev = [dev_lenght + a0/2, 0.0, 0.0]\n",
    "a2_dev,a3_dev = a2_elec,a3_elec\n",
    "print(\"THE NEXT LATTICE VECTORS WILL BE USED FOR YOUR ELECTRODE: \\n\")\n",
    "print(\"cell=\",\"{:.4f}\".format(a1_elec[0]),\"{:.4f}\".format(a1_elec[1]),\"{:.4f}\".format(a1_elec[2]),\"\",\"{:.4f}\".format(a2_elec[0]),\"{:.4f}\".format(a2_elec[1]),\"{:.4f}\".format(a2_elec[2]),\"\",\"{:.4f}\".format(a3_elec[0]),\"{:.4f}\".format(a3_elec[1]),\"{:.4f}\".format(a3_elec[2]), \"nsc= 1 1 1\\n\")\n",
    "print(\"THE NEXT LATTICE VECTORS WILL BE USED FOR YOUR DEVICE: \\n\")\n",
    "print(\"cell=\",\"{:.4f}\".format(a1_dev[0]),\"{:.4f}\".format(a1_dev[1]),\"{:.4f}\".format(a1_dev[2]),\"\",\"{:.4f}\".format(a2_dev[0]),\"{:.4f}\".format(a2_dev[1]),\"{:.4f}\".format(a2_dev[2]), \"\",\"{:.4f}\".format(a3_dev[0]),\"{:.4f}\".format(a3_dev[1]),\"{:.4f}\".format(a3_dev[2]), \"nsc= 1 1 1\")"
   ]
  },
  {
   "cell_type": "markdown",
   "metadata": {
    "id": "IoTGu49er6t1"
   },
   "source": [
    "### Creación de la región de Scattering\n",
    "1. En esta sección se crea la geometría de la región de scattering en un archivo **.xyz**, verifica con un visualizador molecular cómo es esta región.\n",
    "2. En este caso se está considerando el eje-x para la dirección semiinfinita.\n",
    "3. A la par se crea la geometría del electrodo en un archivo **.xyz**, échale un ojo.\n",
    "4. Es necesario que edites los vectores de traslación."
   ]
  },
  {
   "cell_type": "code",
   "execution_count": 7,
   "metadata": {},
   "outputs": [
    {
     "name": "stdout",
     "output_type": "stream",
     "text": [
      "Electrode geometry file:\t au_hcp32.xyz\n",
      "Device geometry file:\t au_hcp32_s_benzene.xyz\n",
      "\n"
     ]
    }
   ],
   "source": [
    "Natoms3 = 2*Natoms + Natoms2\n",
    "res=open(str(label)+str(Natoms)+\".xyz\",\"w\")\n",
    "res.write(str(Natoms) + \"\\n\")\n",
    "res.write(\"cell= 8.1600 0.0000 0.0000  0.0000 15.3000 0.0000  0.0000 0.0000 21.4200 nsc= 1 1 1\" + \"\\n\")\n",
    "res2 = open(str(label)+str(Natoms)+\"_\"+str(molecule_label)+\".xyz\",\"w\")\n",
    "res2.write(str(Natoms3) + \"\\n\")\n",
    "res2.write(\"cell= 25.2432 0.0000 0.0000  0.0000 15.3000 0.0000  0.0000 0.0000 21.4200 nsc= 1 1 1\" + \"\\n\")\n",
    "for k in range(int(len(supercell_xyz))):\n",
    "    res.write(\"Au\" + \"\\t\" + str(\"{:.4f}\".format(supercell_xyz[k,0])) + \"\\t\" +str(\"{:.4f}\".format(supercell_xyz[k,1])) + \"\\t\" +str(\"{:.4f}\".format(supercell_xyz[k,2])) + \"\\n\")\n",
    "    res2.write(\"Au\" + \"\\t\" + str(\"{:.4f}\".format(supercell_xyz[k,0])) + \"\\t\" +str(\"{:.4f}\".format(supercell_xyz[k,1])) + \"\\t\" +str(\"{:.4f}\".format(supercell_xyz[k,2])) + \"\\n\")\n",
    "for atom in range(Natoms2):\n",
    "    xt,yt,zt = rotation_traslation(atom,angle_rotationxy,angle_rotationyz,xm,ym,zm,x_dis_mol,y_dis_mol,z_dis_mol)\n",
    "    res2.write(str(atom_s[atom]) + \"\\t\" + str(\"{:.4f}\".format(xt)) + \"\\t\" +str(\"{:.4f}\".format(yt)) + \"\\t\" +str(\"{:.4f}\".format(zt)) + \"\\n\")\n",
    "for k in range(int(len(supercell_xyz))):\n",
    "    res2.write(\"Au\" + \"\\t\" + str(\"{:.4f}\".format(supercell_xyz[k,0]+x_dis_elec)) + \"\\t\" +str(\"{:.4f}\".format(supercell_xyz[k,1])) + \"\\t\" +str(\"{:.4f}\".format(supercell_xyz[k,2])) + \"\\n\")\n",
    "res.close()\n",
    "res2.close()\n",
    "print(\"Electrode geometry file:\\t\",str(label)+str(Natoms)+\".xyz\")\n",
    "print(\"Device geometry file:\\t\",str(label)+str(Natoms)+\"_\"+str(molecule_label)+\".xyz\"+\"\\n\")"
   ]
  },
  {
   "cell_type": "markdown",
   "metadata": {},
   "source": [
    "### Creación de archivos .fdf con SISL\n",
    " - SISL will read cartesian coordinates from file.xyz both electrode and device."
   ]
  },
  {
   "cell_type": "code",
   "execution_count": 8,
   "metadata": {},
   "outputs": [],
   "source": [
    "import sisl\n",
    "\n",
    "FileSyst = \"au_hcp32_s_benzene.xyz\"\n",
    "FileElec = \"au_hcp32.xyz\"\n",
    "\n",
    "SystemXYZ = sisl.io.xyzSile(FileSyst,mode='r')\n",
    "System    = SystemXYZ.read_geometry()\n",
    "System.write(\"STRUCT_DEVICE.fdf\")\n",
    "# uncomment if you want to check the structure:\n",
    "System.write(\"STRUCT_DEVICE.xyz\")\n",
    "\n",
    "Elec_leftXYZ = sisl.io.xyzSile(FileElec,mode='r')\n",
    "Elec_elec    = Elec_leftXYZ.read_geometry()\n",
    "Elec_elec.write(\"STRUCT_ELEC.fdf\")\n",
    "Elec_elec.write(\"STRUCT_ELEC.xyz\")\n",
    "#Doble_left = Elec_left.tile(1,axis=0) "
   ]
  },
  {
   "cell_type": "markdown",
   "metadata": {},
   "source": [
    "### Conexión de los electrodos:\n",
    "1. La intención de esta sección es verificar si los vectores de traslación (o de la red) son correctos.\n",
    "2. Verifica si la periodicidad se mantiene, de lo contrario realiza las traslaciones necesarias para una conexión adecuada.\n",
    "3.  Las posiciones de color rojo corresponden a los electrodos de lado izquierdo y derecho y las de color azul a la región de scattering."
   ]
  },
  {
   "cell_type": "code",
   "execution_count": 9,
   "metadata": {},
   "outputs": [
    {
     "data": {
      "application/vnd.jupyter.widget-view+json": {
       "model_id": "1609b0764d3649d0bf64da9d30d9bcfc",
       "version_major": 2,
       "version_minor": 0
      },
      "text/plain": [
       "VBox(children=(Figure(camera=PerspectiveCamera(fov=46.0, position=(0.0, 0.0, 2.0), projectionMatrix=(1.0, 0.0,…"
      ]
     },
     "metadata": {},
     "output_type": "display_data"
    }
   ],
   "source": [
    "Device = Readxyz(\"STRUCT_DEVICE.xyz\")\n",
    "Lead   = Readxyz(\"STRUCT_ELEC.xyz\")\n",
    "\n",
    "xD,yD,zD  = Device[\"x\"],Device[\"y\"],Device[\"z\"]\n",
    "xL,yL,zL  = Lead[\"x\"]-a1_elec[0],\\\n",
    "            Lead[\"y\"]-a1_elec[1],\\\n",
    "            Lead[\"z\"]-a1_elec[2]\n",
    "xR,yR,zR  = Lead[\"x\"]+a1_dev[0],\\\n",
    "            Lead[\"y\"]+a1_dev[1],\\\n",
    "            Lead[\"z\"]+a1_dev[2]\n",
    "\n",
    "maximo = array( [xD.max(),yD.max(),zD.max(),\n",
    "                 xL.max(),yL.max(),zL.max(),\n",
    "                 xR.max(),yR.max(),zR.max()] ).max()\n",
    "minimo = array( [xD.min(),yD.min(),zD.min(),\n",
    "                 xL.min(),yL.min(),zL.min(),\n",
    "                 xR.min(),yR.min(),zR.min()] ).min()\n",
    "\n",
    "import ipyvolume as ipv\n",
    "ipv.figure()\n",
    "s = ipv.scatter(xL, yL, zL, marker='sphere', size=3)\n",
    "s = ipv.scatter(xD, yD, zD, marker='sphere', size=3,color=\"blue\")\n",
    "s = ipv.scatter(xR, yR, zR, marker='sphere', size=3)\n",
    "ipv.xyzlim(minimo, maximo)\n",
    "ipv.show()"
   ]
  },
  {
   "cell_type": "markdown",
   "metadata": {},
   "source": [
    "## Cálculos con Transiesta\n",
    "Hasta este punto ya deberías tener los archivos **STRUCT_ELEC.fdf** y **STRUCT_DEVICE.fdf** los cuales contienen la geometría y vectores de traslación del electrodo y de la zona de scattering en un formato que puede ser leído por TranSIESTA.\n",
    "1. El primer paso es obtener el archivo **ELEC.TSHS** el cual contiene la información estructural y del Hamiltoniano del electrodo, para ello es necesario correr un cálculo de convencional de SIESTA con la opción **TS.HS.Save** se encuentre activa (opción *true*). Para este paso ya previamente se debio haber realizado un estudio de convergencia del electrodo en cuestión, así que ejecuta:\n",
    "\n",
    "    `siesta RUN_ELEC.fdf > RUN_ELEC.out`  \n",
    "    \n",
    "    una vez que terminó el cálculo verifica que sí se haya generado el archivo **ELEC.TSHS**.\n",
    "    \n",
    "2.  Ahora sí, llegó la hora de iniciar el cálculo de Transiesta en equilibrio $V=0$, para ello ve a la carpeta **TS_0**, y copia los pseudopontenciales:\n",
    "\n",
    "    `cd TS_0`\n",
    "    \n",
    "    `cp ../*psf .`\n",
    "3. Para ejecutar el cálculo de Transiesta escribe:\n",
    "\n",
    "    `siesta ../RUN.fdf > RUN.out`\n",
    "\n",
    "    si las conexiones de la región de scattering con los electrodos es correcta se iniciará los ciclos de convergencia SCF.\n",
    "    \n",
    "\n",
    "4. Cuando finalice el cálculos se obtendrán los siguientes archivos:\n",
    "\n",
    "   - **siesta.TSHS** el cual contiene información geométrica y del hamiltoniano de la región de scattering y que será utilizado por TBtrans para el cálculo de propiedades físicas.\n",
    "   - **siesta.TSDE** Este archivo contiene información de la matriz densidad y de la energía que será de utilidad para cálculos fuera del equilibrio $V \\neq 0$.\n",
    "   - **siesta.TSGF*** Contiene información de las autoenergías de ocupadas en el acoplamiento de los electrodos."
   ]
  },
  {
   "cell_type": "markdown",
   "metadata": {},
   "source": [
    "## Cálculo de la función de Transmisión $T(E)$\n",
    "En esta sección haremos uso de **TBtrans** y de la paquetería **sisl** para obtener la función de Transmisión. TBtrans necesita la información geométrica y del Hamiltoniano de los electrodos y de la región de scattering, contenidos en **ELEC.TSHS** y **siesta.TSHS**, previamente generados. Así que puedes ejecutar:\n",
    "\n",
    "    `tbtrans RUN_TBT.fdf > RUN_TBT.out`\n",
    "\n",
    "1. Tienes que hacer una labor de convergencia del número de puntos *k*, pero inicia con un número pequeño.\n",
    "2. Al terminar el cálculo obtendrás el archivo **siesta.TBT.nc** el cual contiene información de la función y de las propiedades que dependenda de ella. \n",
    "3. En el archivo **RUN_TBT.fdf** revisa qué opciones se le solicitaron a TBtrans que calculara. Revisa el manual para ver todas las opciones que tiene y así puedas obtener la que tu desees.\n",
    "4. Ahora haremos uso de **sisl** para extraera la información del archivo **.nc* y con ello gráficar la transmisión:"
   ]
  },
  {
   "cell_type": "code",
   "execution_count": 11,
   "metadata": {},
   "outputs": [
    {
     "name": "stdout",
     "output_type": "stream",
     "text": [
      "Device information:\n",
      "  - number of kpoints: 25 <- [ A = 1 , B = 5 , C = 5 ] (time-reversal unknown)\n",
      "  - energy range:\n",
      "     -9.99500 -- 9.99500 eV  [10.000 meV]\n",
      "  - imaginary part (eta): 0.0000 meV\n",
      "  - atoms with DOS (1-based):\n",
      "     33-40\n",
      "  - number of BTD blocks: 2\n",
      "  + DOS Green function: true\n",
      "  - Density matrix Green function: false                    [TBT.DM.Gf]\n",
      "  - COOP Green function: false                              [TBT.COOP.Gf]\n",
      "  - COHP Green function: false                              [TBT.COHP.Gf]\n",
      "\n",
      "Electrode: Left\n",
      "  - number of BTD blocks: 3\n",
      "  - Bloch: [1, 1, 1]\n",
      "  - chemical potential: 0.0000 eV\n",
      "  - electron temperature: 299.99 K\n",
      "  - imaginary part (eta): 0.1000 meV\n",
      "  + DOS bulk: true\n",
      "  + DOS spectral: true\n",
      "  + orbital-current: true\n",
      "  - Density matrix spectral: false                          [TBT.DM.A]\n",
      "  - COOP spectral: false                                    [TBT.COOP.A]\n",
      "  - COHP spectral: false                                    [TBT.COHP.A]\n",
      "  + transmission bulk: true\n",
      "  - transmission out: false                                 [TBT.T.Out]\n",
      "  - transmission out correction: false                      [TBT.T.Out]\n",
      "  - transmission out correction (eigen): false              [TBT.T.Out, TBT.T.Eig]\n",
      "  + transmission -> Right: true\n",
      "  + transmission (eigen) -> Right: true\n",
      "\n",
      "Electrode: Right\n",
      "  - number of BTD blocks: 3\n",
      "  - Bloch: [1, 1, 1]\n",
      "  - chemical potential: 0.0000 eV\n",
      "  - electron temperature: 299.99 K\n",
      "  - imaginary part (eta): 0.1000 meV\n",
      "  + DOS bulk: true\n",
      "  + DOS spectral: true\n",
      "  + orbital-current: true\n",
      "  - Density matrix spectral: false                          [TBT.DM.A]\n",
      "  - COOP spectral: false                                    [TBT.COOP.A]\n",
      "  - COHP spectral: false                                    [TBT.COHP.A]\n",
      "  + transmission bulk: true\n",
      "  - transmission out: false                                 [TBT.T.Out]\n",
      "  - transmission out correction: false                      [TBT.T.Out]\n",
      "  - transmission out correction (eigen): false              [TBT.T.Out, TBT.T.Eig]\n",
      "  + transmission -> Left: true\n",
      "  + transmission (eigen) -> Left: true\n",
      "\n"
     ]
    }
   ],
   "source": [
    "tbt = sisl.get_sile('siesta.TBT.nc')\n",
    "print(tbt.info())"
   ]
  },
  {
   "cell_type": "code",
   "execution_count": 12,
   "metadata": {},
   "outputs": [
    {
     "data": {
      "image/png": "[encoded data removed]",
      "text/plain": [
       "<Figure size 432x288 with 1 Axes>"
      ]
     },
     "metadata": {
      "needs_background": "light"
     },
     "output_type": "display_data"
    }
   ],
   "source": [
    "#Gráfica de la función de Transmisión\n",
    "plt.plot(tbt.E, tbt.transmission(),label='Av');\n",
    "plt.plot(tbt.E, tbt.transmission(kavg=tbt.kindex([0,0,0])), label=r'$\\Gamma$'); plt.legend()\n",
    "plt.ylabel('Transmission'); plt.xlabel('Energy [eV]'); plt.xlim([-5,5]);"
   ]
  },
  {
   "cell_type": "code",
   "execution_count": 13,
   "metadata": {},
   "outputs": [
    {
     "data": {
      "image/png": "[encoded data removed]",
      "text/plain": [
       "<Figure size 432x288 with 1 Axes>"
      ]
     },
     "metadata": {
      "needs_background": "light"
     },
     "output_type": "display_data"
    }
   ],
   "source": [
    "#Gráfica de la densidad de estados\n",
    "DOS_all = [tbt.DOS(), tbt.ADOS(0), tbt.ADOS(1)]\n",
    "plt.plot(tbt.E, DOS_all[0], label='G');\n",
    "plt.plot(tbt.E, DOS_all[1], label=r'$A_L$');\n",
    "plt.plot(tbt.E, DOS_all[2], label=r'$A_R$');\n",
    "plt.xlim([-5,5]);plt.ylim([0, 75]); plt.ylabel('Total DOS [1/eV]'); plt.xlabel('Energy [eV]'); plt.legend(); "
   ]
  },
  {
   "cell_type": "markdown",
   "metadata": {},
   "source": [
    "## Calculos fuera del Equilibrio $V\\neq0$\n",
    "Hasta ahora sólo hemos realizado cálculos en el equilibrio $V=0$, ahora realizaremos cálculos aplicando una diferencia de potencial $V$, el cual desplazará el nivel de fermi de los electrodos a $\\pm V/2$. Se empleará el archivo **.TSDE** de cálculos previos para ayudar el proceso de convergencia e cada $V$ aplicado.\n",
    "\n",
    "1. Estando en la carpeta TS_0 copia el archivo **siesta.TSDE** a la carpeta TS_0.25:\n",
    "\n",
    "    `cp siesta.TSDE ../TS_0.25`\n",
    "    `cd ../TS_0.25`\n",
    "2. Copia los archivos de los pseudopotenciales: `cp ../*psf .`\n",
    "3. Estando dentro de la carpeta TS_0.25 realiza el cálculo de Transiesta fuera del equilibrio, pero para que ya no hagas cambios del voltaje dentro del archivo RUN.fdf, puedes ejecutar de la siguiente manera:\n",
    "    \n",
    "    `siesta  -V 0.25:eV ../RUN.fdf > RUN.out`\n",
    "   \n",
    "4. Realiza el mismo procedimiento para los demás valores de $V$, 0.5, 0.75 y 1.0:\n",
    "    ````\n",
    "    cp siesta.TSDE ../TS_0.5\n",
    "    cd ../TS_0.5 \n",
    "    cp ../*psf .\n",
    "    siesta  -V 0.5:eV ../RUN.fdf > RUN.out\n",
    "    cp siesta.TSDE ../TS_0.75`\n",
    "    cd ../TS_0.75 \n",
    "    cp ../*psf .\n",
    "    siesta  -V 0.75:eV ../RUN.fdf > RUN.out\n",
    "    ````\n",
    "    etcétera."
   ]
  },
  {
   "cell_type": "code",
   "execution_count": null,
   "metadata": {},
   "outputs": [],
   "source": []
  }
 ],
 "metadata": {
  "colab": {
   "collapsed_sections": [],
   "name": "unitcell.ipynb",
   "provenance": []
  },
  "kernelspec": {
   "display_name": "Python 3 (ipykernel)",
   "language": "python",
   "name": "python3"
  },
  "language_info": {
   "codemirror_mode": {
    "name": "ipython",
    "version": 3
   },
   "file_extension": ".py",
   "mimetype": "text/x-python",
   "name": "python",
   "nbconvert_exporter": "python",
   "pygments_lexer": "ipython3",
   "version": "3.7.11"
  }
 },
 "nbformat": 4,
 "nbformat_minor": 1
}
